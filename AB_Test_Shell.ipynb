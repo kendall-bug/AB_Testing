{
 "cells": [
  {
   "cell_type": "markdown",
   "id": "3f5dcf4c",
   "metadata": {},
   "source": [
    "# A/B Testing"
   ]
  },
  {
   "cell_type": "markdown",
   "id": "98744d97",
   "metadata": {},
   "source": [
    "This notebook goes through the processes of setting up an A/B test. \n",
    "\n",
    "Inspired by the tutorial at: https://towardsdatascience.com/ab-testing-with-python-e5964dd66143\n",
    "\n",
    "Dataset can be found at: https://www.kaggle.com/datasets/zhangluyuan/ab-testing?resource=download"
   ]
  },
  {
   "cell_type": "code",
   "execution_count": 27,
   "id": "2888303e",
   "metadata": {},
   "outputs": [
    {
     "data": {
      "text/plain": [
       "'/Users/kxr6264/Documents/Taco_Bell_KDS_Analysis'"
      ]
     },
     "execution_count": 27,
     "metadata": {},
     "output_type": "execute_result"
    }
   ],
   "source": [
    "# import basic packages\n",
    "#!pip install pandas\n",
    "import pandas as pd\n",
    "import os\n",
    "import numpy as np\n",
    "\n",
    "# stats packages \n",
    "import scipy.stats as stats\n",
    "#!pip install statsmodels\n",
    "import statsmodels.stats.api as sms\n",
    "from statsmodels.stats.proportion import proportions_ztest\n",
    "\n",
    "# data viz\n",
    "import matplotlib.pyplot as plt\n",
    "#!pip install seaborn\n",
    "import seaborn as sns\n",
    "\n",
    "os.getcwd()"
   ]
  },
  {
   "cell_type": "code",
   "execution_count": 4,
   "id": "247dbec0",
   "metadata": {},
   "outputs": [],
   "source": [
    "df = pd.read_csv('/Users/kxr6264/Documents/Taco_Bell_KDS_Analysis/ab_data.csv')"
   ]
  },
  {
   "cell_type": "code",
   "execution_count": 5,
   "id": "04b5e734",
   "metadata": {},
   "outputs": [
    {
     "name": "stdout",
     "output_type": "stream",
     "text": [
      "(294478, 5)\n"
     ]
    }
   ],
   "source": [
    "df.head(50)\n",
    "\n",
    "print(df.shape)"
   ]
  },
  {
   "cell_type": "markdown",
   "id": "f7353a37",
   "metadata": {},
   "source": [
    "# Exploratory Data Analysis"
   ]
  },
  {
   "cell_type": "code",
   "execution_count": 6,
   "id": "ff5f8387",
   "metadata": {},
   "outputs": [
    {
     "data": {
      "text/plain": [
       "treatment    147276\n",
       "control      147202\n",
       "Name: group, dtype: int64"
      ]
     },
     "execution_count": 6,
     "metadata": {},
     "output_type": "execute_result"
    }
   ],
   "source": [
    "# see how many users are in each group\n",
    "df['group'].value_counts()"
   ]
  },
  {
   "cell_type": "code",
   "execution_count": 7,
   "id": "b8247c83",
   "metadata": {},
   "outputs": [
    {
     "data": {
      "text/html": [
       "<div>\n",
       "<style scoped>\n",
       "    .dataframe tbody tr th:only-of-type {\n",
       "        vertical-align: middle;\n",
       "    }\n",
       "\n",
       "    .dataframe tbody tr th {\n",
       "        vertical-align: top;\n",
       "    }\n",
       "\n",
       "    .dataframe thead th {\n",
       "        text-align: right;\n",
       "    }\n",
       "</style>\n",
       "<table border=\"1\" class=\"dataframe\">\n",
       "  <thead>\n",
       "    <tr style=\"text-align: right;\">\n",
       "      <th>converted</th>\n",
       "      <th>0</th>\n",
       "      <th>1</th>\n",
       "    </tr>\n",
       "    <tr>\n",
       "      <th>group</th>\n",
       "      <th></th>\n",
       "      <th></th>\n",
       "    </tr>\n",
       "  </thead>\n",
       "  <tbody>\n",
       "    <tr>\n",
       "      <th>control</th>\n",
       "      <td>129479</td>\n",
       "      <td>17723</td>\n",
       "    </tr>\n",
       "    <tr>\n",
       "      <th>treatment</th>\n",
       "      <td>129762</td>\n",
       "      <td>17514</td>\n",
       "    </tr>\n",
       "  </tbody>\n",
       "</table>\n",
       "</div>"
      ],
      "text/plain": [
       "converted       0      1\n",
       "group                   \n",
       "control    129479  17723\n",
       "treatment  129762  17514"
      ]
     },
     "execution_count": 7,
     "metadata": {},
     "output_type": "execute_result"
    }
   ],
   "source": [
    "# see how many were converted from test and control groups\n",
    "pd.crosstab(df['group'],df['converted'])"
   ]
  },
  {
   "cell_type": "code",
   "execution_count": 9,
   "id": "0c6cfd03",
   "metadata": {},
   "outputs": [
    {
     "data": {
      "text/html": [
       "<div>\n",
       "<style scoped>\n",
       "    .dataframe tbody tr th:only-of-type {\n",
       "        vertical-align: middle;\n",
       "    }\n",
       "\n",
       "    .dataframe tbody tr th {\n",
       "        vertical-align: top;\n",
       "    }\n",
       "\n",
       "    .dataframe thead th {\n",
       "        text-align: right;\n",
       "    }\n",
       "</style>\n",
       "<table border=\"1\" class=\"dataframe\">\n",
       "  <thead>\n",
       "    <tr style=\"text-align: right;\">\n",
       "      <th></th>\n",
       "      <th>user_id</th>\n",
       "      <th>converted</th>\n",
       "    </tr>\n",
       "  </thead>\n",
       "  <tbody>\n",
       "    <tr>\n",
       "      <th>count</th>\n",
       "      <td>294478.000000</td>\n",
       "      <td>294478.000000</td>\n",
       "    </tr>\n",
       "    <tr>\n",
       "      <th>mean</th>\n",
       "      <td>787974.124733</td>\n",
       "      <td>0.119659</td>\n",
       "    </tr>\n",
       "    <tr>\n",
       "      <th>std</th>\n",
       "      <td>91210.823776</td>\n",
       "      <td>0.324563</td>\n",
       "    </tr>\n",
       "    <tr>\n",
       "      <th>min</th>\n",
       "      <td>630000.000000</td>\n",
       "      <td>0.000000</td>\n",
       "    </tr>\n",
       "    <tr>\n",
       "      <th>25%</th>\n",
       "      <td>709032.250000</td>\n",
       "      <td>0.000000</td>\n",
       "    </tr>\n",
       "    <tr>\n",
       "      <th>50%</th>\n",
       "      <td>787933.500000</td>\n",
       "      <td>0.000000</td>\n",
       "    </tr>\n",
       "    <tr>\n",
       "      <th>75%</th>\n",
       "      <td>866911.750000</td>\n",
       "      <td>0.000000</td>\n",
       "    </tr>\n",
       "    <tr>\n",
       "      <th>max</th>\n",
       "      <td>945999.000000</td>\n",
       "      <td>1.000000</td>\n",
       "    </tr>\n",
       "  </tbody>\n",
       "</table>\n",
       "</div>"
      ],
      "text/plain": [
       "             user_id      converted\n",
       "count  294478.000000  294478.000000\n",
       "mean   787974.124733       0.119659\n",
       "std     91210.823776       0.324563\n",
       "min    630000.000000       0.000000\n",
       "25%    709032.250000       0.000000\n",
       "50%    787933.500000       0.000000\n",
       "75%    866911.750000       0.000000\n",
       "max    945999.000000       1.000000"
      ]
     },
     "execution_count": 9,
     "metadata": {},
     "output_type": "execute_result"
    }
   ],
   "source": [
    "df.describe()"
   ]
  },
  {
   "cell_type": "code",
   "execution_count": 29,
   "id": "8c48c458",
   "metadata": {},
   "outputs": [
    {
     "data": {
      "text/html": [
       "<div>\n",
       "<style scoped>\n",
       "    .dataframe tbody tr th:only-of-type {\n",
       "        vertical-align: middle;\n",
       "    }\n",
       "\n",
       "    .dataframe tbody tr th {\n",
       "        vertical-align: top;\n",
       "    }\n",
       "\n",
       "    .dataframe thead th {\n",
       "        text-align: right;\n",
       "    }\n",
       "</style>\n",
       "<table border=\"1\" class=\"dataframe\">\n",
       "  <thead>\n",
       "    <tr style=\"text-align: right;\">\n",
       "      <th>month</th>\n",
       "      <th>1</th>\n",
       "    </tr>\n",
       "    <tr>\n",
       "      <th>year</th>\n",
       "      <th></th>\n",
       "    </tr>\n",
       "  </thead>\n",
       "  <tbody>\n",
       "    <tr>\n",
       "      <th>2017</th>\n",
       "      <td>294478</td>\n",
       "    </tr>\n",
       "  </tbody>\n",
       "</table>\n",
       "</div>"
      ],
      "text/plain": [
       "month       1\n",
       "year         \n",
       "2017   294478"
      ]
     },
     "execution_count": 29,
     "metadata": {},
     "output_type": "execute_result"
    }
   ],
   "source": [
    "## How long was this test run for?\n",
    "df['timestamp'] = pd.to_datetime(df['timestamp'])\n",
    "df['year'] = df['timestamp'].dt.year\n",
    "df['month'] = df['timestamp'].dt.month\n",
    "df['day'] = df['timestamp'].dt.day\n",
    "\n",
    "df.head()\n",
    "\n",
    "# see what months/years this test spans across\n",
    "pd.crosstab(df['year'],df['month'])\n"
   ]
  },
  {
   "cell_type": "markdown",
   "id": "1f997446",
   "metadata": {},
   "source": [
    "This test was conducted in January 2017. Let's see how many clicks occurred on each date in January."
   ]
  },
  {
   "cell_type": "code",
   "execution_count": 31,
   "id": "0481ae94",
   "metadata": {},
   "outputs": [
    {
     "data": {
      "text/html": [
       "<div>\n",
       "<style scoped>\n",
       "    .dataframe tbody tr th:only-of-type {\n",
       "        vertical-align: middle;\n",
       "    }\n",
       "\n",
       "    .dataframe tbody tr th {\n",
       "        vertical-align: top;\n",
       "    }\n",
       "\n",
       "    .dataframe thead th {\n",
       "        text-align: right;\n",
       "    }\n",
       "</style>\n",
       "<table border=\"1\" class=\"dataframe\">\n",
       "  <thead>\n",
       "    <tr style=\"text-align: right;\">\n",
       "      <th>month</th>\n",
       "      <th>1</th>\n",
       "    </tr>\n",
       "    <tr>\n",
       "      <th>day</th>\n",
       "      <th></th>\n",
       "    </tr>\n",
       "  </thead>\n",
       "  <tbody>\n",
       "    <tr>\n",
       "      <th>2</th>\n",
       "      <td>5783</td>\n",
       "    </tr>\n",
       "    <tr>\n",
       "      <th>3</th>\n",
       "      <td>13394</td>\n",
       "    </tr>\n",
       "    <tr>\n",
       "      <th>4</th>\n",
       "      <td>13284</td>\n",
       "    </tr>\n",
       "    <tr>\n",
       "      <th>5</th>\n",
       "      <td>13124</td>\n",
       "    </tr>\n",
       "    <tr>\n",
       "      <th>6</th>\n",
       "      <td>13528</td>\n",
       "    </tr>\n",
       "    <tr>\n",
       "      <th>7</th>\n",
       "      <td>13381</td>\n",
       "    </tr>\n",
       "    <tr>\n",
       "      <th>8</th>\n",
       "      <td>13564</td>\n",
       "    </tr>\n",
       "    <tr>\n",
       "      <th>9</th>\n",
       "      <td>13439</td>\n",
       "    </tr>\n",
       "    <tr>\n",
       "      <th>10</th>\n",
       "      <td>13523</td>\n",
       "    </tr>\n",
       "    <tr>\n",
       "      <th>11</th>\n",
       "      <td>13553</td>\n",
       "    </tr>\n",
       "    <tr>\n",
       "      <th>12</th>\n",
       "      <td>13322</td>\n",
       "    </tr>\n",
       "    <tr>\n",
       "      <th>13</th>\n",
       "      <td>13238</td>\n",
       "    </tr>\n",
       "    <tr>\n",
       "      <th>14</th>\n",
       "      <td>13329</td>\n",
       "    </tr>\n",
       "    <tr>\n",
       "      <th>15</th>\n",
       "      <td>13449</td>\n",
       "    </tr>\n",
       "    <tr>\n",
       "      <th>16</th>\n",
       "      <td>13327</td>\n",
       "    </tr>\n",
       "    <tr>\n",
       "      <th>17</th>\n",
       "      <td>13322</td>\n",
       "    </tr>\n",
       "    <tr>\n",
       "      <th>18</th>\n",
       "      <td>13285</td>\n",
       "    </tr>\n",
       "    <tr>\n",
       "      <th>19</th>\n",
       "      <td>13293</td>\n",
       "    </tr>\n",
       "    <tr>\n",
       "      <th>20</th>\n",
       "      <td>13393</td>\n",
       "    </tr>\n",
       "    <tr>\n",
       "      <th>21</th>\n",
       "      <td>13475</td>\n",
       "    </tr>\n",
       "    <tr>\n",
       "      <th>22</th>\n",
       "      <td>13423</td>\n",
       "    </tr>\n",
       "    <tr>\n",
       "      <th>23</th>\n",
       "      <td>13511</td>\n",
       "    </tr>\n",
       "    <tr>\n",
       "      <th>24</th>\n",
       "      <td>7538</td>\n",
       "    </tr>\n",
       "  </tbody>\n",
       "</table>\n",
       "</div>"
      ],
      "text/plain": [
       "month      1\n",
       "day         \n",
       "2       5783\n",
       "3      13394\n",
       "4      13284\n",
       "5      13124\n",
       "6      13528\n",
       "7      13381\n",
       "8      13564\n",
       "9      13439\n",
       "10     13523\n",
       "11     13553\n",
       "12     13322\n",
       "13     13238\n",
       "14     13329\n",
       "15     13449\n",
       "16     13327\n",
       "17     13322\n",
       "18     13285\n",
       "19     13293\n",
       "20     13393\n",
       "21     13475\n",
       "22     13423\n",
       "23     13511\n",
       "24      7538"
      ]
     },
     "execution_count": 31,
     "metadata": {},
     "output_type": "execute_result"
    }
   ],
   "source": [
    "# see what months/years this test spans across\n",
    "pd.crosstab(df['day'],df['month'])"
   ]
  },
  {
   "cell_type": "markdown",
   "id": "739e161c",
   "metadata": {},
   "source": [
    "# Define what Success looks like, as well as pre and post metrics."
   ]
  },
  {
   "cell_type": "code",
   "execution_count": 10,
   "id": "cdc11a1f",
   "metadata": {},
   "outputs": [
    {
     "data": {
      "text/html": [
       "<div>\n",
       "<style scoped>\n",
       "    .dataframe tbody tr th:only-of-type {\n",
       "        vertical-align: middle;\n",
       "    }\n",
       "\n",
       "    .dataframe tbody tr th {\n",
       "        vertical-align: top;\n",
       "    }\n",
       "\n",
       "    .dataframe thead th {\n",
       "        text-align: right;\n",
       "    }\n",
       "</style>\n",
       "<table border=\"1\" class=\"dataframe\">\n",
       "  <thead>\n",
       "    <tr style=\"text-align: right;\">\n",
       "      <th></th>\n",
       "      <th>user_id</th>\n",
       "      <th>timestamp</th>\n",
       "      <th>group</th>\n",
       "      <th>landing_page</th>\n",
       "      <th>converted</th>\n",
       "      <th>Success</th>\n",
       "    </tr>\n",
       "  </thead>\n",
       "  <tbody>\n",
       "    <tr>\n",
       "      <th>0</th>\n",
       "      <td>851104</td>\n",
       "      <td>2017-01-21 22:11:48.556739</td>\n",
       "      <td>control</td>\n",
       "      <td>old_page</td>\n",
       "      <td>0</td>\n",
       "      <td>User did not convert</td>\n",
       "    </tr>\n",
       "    <tr>\n",
       "      <th>1</th>\n",
       "      <td>804228</td>\n",
       "      <td>2017-01-12 08:01:45.159739</td>\n",
       "      <td>control</td>\n",
       "      <td>old_page</td>\n",
       "      <td>0</td>\n",
       "      <td>User did not convert</td>\n",
       "    </tr>\n",
       "    <tr>\n",
       "      <th>2</th>\n",
       "      <td>661590</td>\n",
       "      <td>2017-01-11 16:55:06.154213</td>\n",
       "      <td>treatment</td>\n",
       "      <td>new_page</td>\n",
       "      <td>0</td>\n",
       "      <td>User did not convert</td>\n",
       "    </tr>\n",
       "    <tr>\n",
       "      <th>3</th>\n",
       "      <td>853541</td>\n",
       "      <td>2017-01-08 18:28:03.143765</td>\n",
       "      <td>treatment</td>\n",
       "      <td>new_page</td>\n",
       "      <td>0</td>\n",
       "      <td>User did not convert</td>\n",
       "    </tr>\n",
       "    <tr>\n",
       "      <th>4</th>\n",
       "      <td>864975</td>\n",
       "      <td>2017-01-21 01:52:26.210827</td>\n",
       "      <td>control</td>\n",
       "      <td>old_page</td>\n",
       "      <td>1</td>\n",
       "      <td>User converted</td>\n",
       "    </tr>\n",
       "  </tbody>\n",
       "</table>\n",
       "</div>"
      ],
      "text/plain": [
       "   user_id                   timestamp      group landing_page  converted  \\\n",
       "0   851104  2017-01-21 22:11:48.556739    control     old_page          0   \n",
       "1   804228  2017-01-12 08:01:45.159739    control     old_page          0   \n",
       "2   661590  2017-01-11 16:55:06.154213  treatment     new_page          0   \n",
       "3   853541  2017-01-08 18:28:03.143765  treatment     new_page          0   \n",
       "4   864975  2017-01-21 01:52:26.210827    control     old_page          1   \n",
       "\n",
       "                Success  \n",
       "0  User did not convert  \n",
       "1  User did not convert  \n",
       "2  User did not convert  \n",
       "3  User did not convert  \n",
       "4        User converted  "
      ]
     },
     "execution_count": 10,
     "metadata": {},
     "output_type": "execute_result"
    }
   ],
   "source": [
    "#df['Success'] = np.where(df['Post SOS']<df['Pre SOS'],1,0)\n",
    "df.loc[df['converted']==1, 'Success'] = \"User converted\"\n",
    "df.loc[df['converted']==0, 'Success'] = \"User did not convert\"\n",
    "df.head()"
   ]
  },
  {
   "cell_type": "markdown",
   "id": "603ff51c",
   "metadata": {},
   "source": [
    "### Pre-Test Success metric: Our baseline performance. \n",
    "\n",
    "How many control users clicked on the old version of the \"Click Here to Subscribe\" button on your site?\n",
    "\n",
    "I am calculating this to use as the number for our \"normal\" or \"expected\" performance. Keep in mind that this is number is coming from a sample - if you are applying this in a business setting, your business partners may be able to provide a metric for what the typical performance of the population is."
   ]
  },
  {
   "cell_type": "code",
   "execution_count": 17,
   "id": "2557306b",
   "metadata": {},
   "outputs": [
    {
     "name": "stdout",
     "output_type": "stream",
     "text": [
      "0.12039917935897611\n"
     ]
    }
   ],
   "source": [
    "# separate out only non-converted users\n",
    "not_conv = df[df['group']=='control']\n",
    "\n",
    "# percentage of time SOS was reduced vs not\n",
    "not_conv['converted'].value_counts()\n",
    "\n",
    "# take num of successes / total instances\n",
    "pre_test_success = not_conv['converted'].value_counts()[1] / (not_conv['converted'].value_counts()[1] + not_conv['converted'].value_counts()[0])\n",
    "print(pre_test_success)"
   ]
  },
  {
   "cell_type": "markdown",
   "id": "cc56c891",
   "metadata": {},
   "source": [
    "### Post-Test Success metric: Our performance after the treatment is applied.\n",
    "\n",
    "How many treatment users clicked on the new version of the \"Click Here to Subscribe\" button on your site?"
   ]
  },
  {
   "cell_type": "code",
   "execution_count": 18,
   "id": "e4ae59c8",
   "metadata": {},
   "outputs": [
    {
     "name": "stdout",
     "output_type": "stream",
     "text": [
      "0.11891957956489856\n"
     ]
    }
   ],
   "source": [
    "# separate out only non-converted users\n",
    "conv = df[df['group']=='treatment']\n",
    "\n",
    "# percentage of time SOS was reduced vs not\n",
    "conv['converted'].value_counts()\n",
    "\n",
    "# take num of successes / total instances\n",
    "post_test_success = conv['converted'].value_counts()[1] / (conv['converted'].value_counts()[1] + conv['converted'].value_counts()[0])\n",
    "print(post_test_success)"
   ]
  },
  {
   "cell_type": "markdown",
   "id": "f554680d",
   "metadata": {},
   "source": [
    "# Business Problem"
   ]
  },
  {
   "cell_type": "markdown",
   "id": "ab1314ee",
   "metadata": {},
   "source": [
    "Both pre and post conversion rates are around 12%, with post test metrics actually seeming to be a little *worse* with the new design than the old design. \n",
    "\n",
    "Your business team is starting to worry that this new design is losing potential customers, wants to know if they should keep this design or revert back to the old button. They say that in order to keep the new button, they would like to see a 3% increase in subscribers being attracted. Otherwise, they will return back to the old design."
   ]
  },
  {
   "cell_type": "code",
   "execution_count": 48,
   "id": "14f277bf",
   "metadata": {},
   "outputs": [
    {
     "data": {
      "text/plain": [
       "0.15039917935897612"
      ]
     },
     "execution_count": 48,
     "metadata": {},
     "output_type": "execute_result"
    }
   ],
   "source": [
    "desired_effect = pre_test_success + 0.03\n",
    "desired_effect"
   ]
  },
  {
   "cell_type": "markdown",
   "id": "8eb1bb26",
   "metadata": {},
   "source": [
    "# Run the A/B test"
   ]
  },
  {
   "cell_type": "markdown",
   "id": "d0c203aa",
   "metadata": {},
   "source": [
    "# Test for duplicates users, and remove them if they appear more than once\n",
    "\n",
    "Since we want to ensure that each observation is a unique user coming to the site, we want to remove any duplicate users from our df.\n"
   ]
  },
  {
   "cell_type": "code",
   "execution_count": 33,
   "id": "cf5ad202",
   "metadata": {},
   "outputs": [
    {
     "name": "stdout",
     "output_type": "stream",
     "text": [
      "There are 3894 users that appear multiple times in the dataset\n"
     ]
    }
   ],
   "source": [
    "# see if there are users that appear mulitple times\n",
    "visit_counts = df['user_id'].value_counts(ascending=False)\n",
    "multi_users = visit_counts[visit_counts > 1].count()\n",
    "\n",
    "print(f'There are {multi_users} users that appear multiple times in the dataset')"
   ]
  },
  {
   "cell_type": "code",
   "execution_count": 36,
   "id": "16e70f42",
   "metadata": {},
   "outputs": [
    {
     "name": "stdout",
     "output_type": "stream",
     "text": [
      "The updated dataset now has 286690 entries\n"
     ]
    }
   ],
   "source": [
    "users_to_drop = visit_counts[visit_counts > 1].index\n",
    "\n",
    "df = df[~df['user_id'].isin(users_to_drop)]\n",
    "print(f'The updated dataset now has {df.shape[0]} entries')"
   ]
  },
  {
   "cell_type": "code",
   "execution_count": 37,
   "id": "3c179a07",
   "metadata": {},
   "outputs": [
    {
     "data": {
      "text/plain": [
       "user_id                  int64\n",
       "timestamp       datetime64[ns]\n",
       "group                   object\n",
       "landing_page            object\n",
       "converted                int64\n",
       "Success                 object\n",
       "year                     int64\n",
       "month                    int64\n",
       "day                      int64\n",
       "dtype: object"
      ]
     },
     "execution_count": 37,
     "metadata": {},
     "output_type": "execute_result"
    }
   ],
   "source": [
    "df.dtypes"
   ]
  },
  {
   "cell_type": "markdown",
   "id": "1f84683a",
   "metadata": {},
   "source": [
    "# Two-tailed Hypothesis: The new button impacts website performance in attracting subscribers."
   ]
  },
  {
   "cell_type": "markdown",
   "id": "f93894de",
   "metadata": {},
   "source": [
    "# Gathering the correct sample size\n",
    "\n",
    "A/B testing generally requires many observations to get statistically valid results. But, although we have a pretty good amount of data in this dataset, we still may not need to analyze all of it to answer our business question.\n",
    "\n",
    "The code below calculates the minimumm number of observations in each group (control and treatment) that we need to collect before performaing the analysis. This can help us to speed up processing times and run a less computationally-expensive test."
   ]
  },
  {
   "cell_type": "code",
   "execution_count": 49,
   "id": "93aec606",
   "metadata": {},
   "outputs": [
    {
     "data": {
      "text/plain": [
       "-0.08780542373591216"
      ]
     },
     "execution_count": 49,
     "metadata": {},
     "output_type": "execute_result"
    }
   ],
   "source": [
    "# # # article eff size - same as my calc value?\n",
    "#effect_size_article = sms.proportion_effectsize(pre_treatment_success,post_treatment_success)\n",
    "effect_size= sms.proportion_effectsize(pre_test_success,desired_effect) # see if there is an effect between expected pre and post amounts\n",
    "effect_size"
   ]
  },
  {
   "cell_type": "code",
   "execution_count": 50,
   "id": "7256fc07",
   "metadata": {},
   "outputs": [],
   "source": [
    "# https://www.statsmodels.org/dev/generated/statsmodels.stats.power.NormalIndPower.solve_power.html\n",
    "# https://towardsdatascience.com/ab-testing-with-python-e5964dd66143\n",
    "required_n = sms.NormalIndPower().solve_power(\n",
    "    effect_size, \n",
    "    power=0.8, # Power is the probability that the test correctly rejects the Null Hypothesis if the Alternative Hypothesis is true. Typical default value is 0.8, saying that there is an 80% chance that the test correctly rejects the null hypothesis.\n",
    "    alpha=0.05, \n",
    "    ratio=1\n",
    "    )               "
   ]
  },
  {
   "cell_type": "code",
   "execution_count": 51,
   "id": "bcfd0a30",
   "metadata": {},
   "outputs": [
    {
     "name": "stdout",
     "output_type": "stream",
     "text": [
      "2037.0\n"
     ]
    }
   ],
   "source": [
    "# minimum number of stores from each group that need to be sampled \n",
    "# in order to detect if there is a true difference between our pre and post test.\n",
    "# tip: you can edit the power and alpha levels above if you want more/less precision behind your results\n",
    "required_n = np.ceil(required_n)\n",
    "print(required_n)"
   ]
  },
  {
   "cell_type": "markdown",
   "id": "1dcd7e31",
   "metadata": {},
   "source": [
    "\n",
    "# Rule of Thumb for interpreting Cohen's d:\n",
    "#### https://www.statisticshowto.com/probability-and-statistics/statistics-definitions/cohens-d/\n",
    "\n",
    "Use these general “rule of thumb” guidelines (which Cohen said should be used cautiously):\n",
    "\n",
    " - Small effect = 0.2\n",
    " - Medium Effect = 0.5\n",
    " - Large Effect = 0.8\n",
    " \n",
    "“Small” effects are difficult to see with the naked eye. For example, Cohen reported that the height difference \n",
    "between 15-year-old and 16-year-old girls in the US is about this effect size. “Medium” is probably big enough to \n",
    "be discerned with the naked eye, while effects that are “large” can definitely be seen with the naked eye \n",
    "(Cohen calls this “grossly perceptible and therefore large”). For example, the difference in heights between \n",
    "13-year-old and 18-year-old girls is 0.8. An effect under 0.2 can be considered trivial, even if your results \n",
    "are statistically significant.\n",
    "\n",
    "Bear in mind that a “large” effect isn’t necessarily better than a “small” effect, especially in settings where \n",
    "small differences can have a major impact. For example, an increase in academic scores or health grades by an effect \n",
    "size of just 0.1 can be very significant in the real world. Durlak (2009) suggests referring to prior research in \n",
    "order to get an idea of where your findings fit into the bigger context."
   ]
  },
  {
   "cell_type": "code",
   "execution_count": null,
   "id": "6877a39b",
   "metadata": {},
   "outputs": [],
   "source": [
    "# # calculate effect size using cohen's d for equal group sizes. concerned we may not have enough samples. \n",
    "# # check here for unequal group sizes: https://toptipbio.com/cohens-d/\n",
    "# # formula here: https://www.researchgate.net/figure/Formula-for-Cohens-d_fig1_286089628\n",
    "# # business users state that they expect TKDS to save roughly 2-3 seconds on each transaction than non-TKDS.\n",
    "\n",
    "# # calculate avg for pre and post of all stores we have, then find the difference between those values.\n",
    "# # this number is the top of you\n",
    "# m1 = df['Pre SOS'].mean()\n",
    "# m2 = df['Post SOS'].mean()\n",
    "# diff_in_means = m2-m1  # this number is the numerator of your cohen's d formula\n",
    "\n",
    "# # calculate the sample std dev of each group and square it. add those two values together then divide by two\n",
    "# m1sd_squared = df['Pre SOS'].std() * df['Pre SOS'].std() \n",
    "# m2sd_squared = df['Post SOS'].std() * df['Post SOS'].std()\n",
    "# sum_squares = m1sd_squared + m2sd_squared\n",
    "# div_by_2 = sum_squares / 2\n",
    "\n",
    "# # lastly, take the radical of your resulting number above\n",
    "# bottom_half_cohens_d_formula = np.sqrt(div_by_2)  # this number is the denominator of your cohen's d formula\n",
    "\n",
    "# cohens_d = diff_in_means / bottom_half_cohens_d_formula \n",
    "\n",
    "# print(cohens_d)\n"
   ]
  },
  {
   "cell_type": "code",
   "execution_count": null,
   "id": "c1969ee8",
   "metadata": {},
   "outputs": [],
   "source": [
    "# # https://www.statsmodels.org/dev/generated/statsmodels.stats.power.NormalIndPower.solve_power.html\n",
    "# # https://towardsdatascience.com/ab-testing-with-python-e5964dd66143\n",
    "# required_n = sms.NormalIndPower().solve_power(\n",
    "#     cohens_d, \n",
    "#     power=0.8, # Power is the probability that the test correctly rejects the Null Hypothesis if the Alternative Hypothesis is true.\n",
    "#     alpha=0.05, \n",
    "#     ratio=1\n",
    "#     )     "
   ]
  },
  {
   "cell_type": "code",
   "execution_count": null,
   "id": "90bf9f4f",
   "metadata": {},
   "outputs": [],
   "source": [
    "# # minimum number of stores from each group that need to be sampled for an effective analysis\n",
    "# required_n = np.ceil(required_n)\n",
    "# print(required_n)"
   ]
  },
  {
   "cell_type": "markdown",
   "id": "6d799f6c",
   "metadata": {},
   "source": [
    "# Balance the data frame that we are testing\n",
    "\n",
    "#### The control and test groups must have the same number of ns. Here tkds1s have 424 observations, and tkds0s have 326.\n",
    "#### We can make sure each group is represented by randomly sampling 294 (our min sample size) from each group and putting these values into a new df"
   ]
  },
  {
   "cell_type": "code",
   "execution_count": 52,
   "id": "abd59880",
   "metadata": {},
   "outputs": [
    {
     "name": "stdout",
     "output_type": "stream",
     "text": [
      "2037\n"
     ]
    }
   ],
   "source": [
    "# create new df that have the same num of samples from control group as test group\n",
    "required_n = required_n.astype(np.int64)\n",
    "print(required_n)\n",
    "\n",
    "control_sample = df[df['converted'] == 0].sample(required_n, random_state=22)\n",
    "treatment_sample = df[df['converted'] == 1].sample(required_n, random_state=22)\n",
    "\n"
   ]
  },
  {
   "cell_type": "code",
   "execution_count": 53,
   "id": "dc6b88ef",
   "metadata": {},
   "outputs": [
    {
     "data": {
      "text/html": [
       "<div>\n",
       "<style scoped>\n",
       "    .dataframe tbody tr th:only-of-type {\n",
       "        vertical-align: middle;\n",
       "    }\n",
       "\n",
       "    .dataframe tbody tr th {\n",
       "        vertical-align: top;\n",
       "    }\n",
       "\n",
       "    .dataframe thead th {\n",
       "        text-align: right;\n",
       "    }\n",
       "</style>\n",
       "<table border=\"1\" class=\"dataframe\">\n",
       "  <thead>\n",
       "    <tr style=\"text-align: right;\">\n",
       "      <th></th>\n",
       "      <th>user_id</th>\n",
       "      <th>timestamp</th>\n",
       "      <th>group</th>\n",
       "      <th>landing_page</th>\n",
       "      <th>converted</th>\n",
       "      <th>Success</th>\n",
       "      <th>year</th>\n",
       "      <th>month</th>\n",
       "      <th>day</th>\n",
       "    </tr>\n",
       "  </thead>\n",
       "  <tbody>\n",
       "    <tr>\n",
       "      <th>0</th>\n",
       "      <td>733022</td>\n",
       "      <td>2017-01-23 15:19:30.625626</td>\n",
       "      <td>treatment</td>\n",
       "      <td>new_page</td>\n",
       "      <td>0</td>\n",
       "      <td>User did not convert</td>\n",
       "      <td>2017</td>\n",
       "      <td>1</td>\n",
       "      <td>23</td>\n",
       "    </tr>\n",
       "    <tr>\n",
       "      <th>1</th>\n",
       "      <td>907867</td>\n",
       "      <td>2017-01-15 11:05:07.146881</td>\n",
       "      <td>treatment</td>\n",
       "      <td>new_page</td>\n",
       "      <td>0</td>\n",
       "      <td>User did not convert</td>\n",
       "      <td>2017</td>\n",
       "      <td>1</td>\n",
       "      <td>15</td>\n",
       "    </tr>\n",
       "    <tr>\n",
       "      <th>2</th>\n",
       "      <td>637065</td>\n",
       "      <td>2017-01-06 01:27:52.026002</td>\n",
       "      <td>treatment</td>\n",
       "      <td>new_page</td>\n",
       "      <td>0</td>\n",
       "      <td>User did not convert</td>\n",
       "      <td>2017</td>\n",
       "      <td>1</td>\n",
       "      <td>6</td>\n",
       "    </tr>\n",
       "    <tr>\n",
       "      <th>3</th>\n",
       "      <td>753838</td>\n",
       "      <td>2017-01-10 07:41:29.024607</td>\n",
       "      <td>control</td>\n",
       "      <td>old_page</td>\n",
       "      <td>0</td>\n",
       "      <td>User did not convert</td>\n",
       "      <td>2017</td>\n",
       "      <td>1</td>\n",
       "      <td>10</td>\n",
       "    </tr>\n",
       "    <tr>\n",
       "      <th>4</th>\n",
       "      <td>861583</td>\n",
       "      <td>2017-01-20 16:21:08.793702</td>\n",
       "      <td>treatment</td>\n",
       "      <td>new_page</td>\n",
       "      <td>0</td>\n",
       "      <td>User did not convert</td>\n",
       "      <td>2017</td>\n",
       "      <td>1</td>\n",
       "      <td>20</td>\n",
       "    </tr>\n",
       "  </tbody>\n",
       "</table>\n",
       "</div>"
      ],
      "text/plain": [
       "   user_id                  timestamp      group landing_page  converted  \\\n",
       "0   733022 2017-01-23 15:19:30.625626  treatment     new_page          0   \n",
       "1   907867 2017-01-15 11:05:07.146881  treatment     new_page          0   \n",
       "2   637065 2017-01-06 01:27:52.026002  treatment     new_page          0   \n",
       "3   753838 2017-01-10 07:41:29.024607    control     old_page          0   \n",
       "4   861583 2017-01-20 16:21:08.793702  treatment     new_page          0   \n",
       "\n",
       "                Success  year  month  day  \n",
       "0  User did not convert  2017      1   23  \n",
       "1  User did not convert  2017      1   15  \n",
       "2  User did not convert  2017      1    6  \n",
       "3  User did not convert  2017      1   10  \n",
       "4  User did not convert  2017      1   20  "
      ]
     },
     "execution_count": 53,
     "metadata": {},
     "output_type": "execute_result"
    }
   ],
   "source": [
    "ab_test = pd.concat([control_sample, treatment_sample], axis=0)\n",
    "ab_test.reset_index(drop=True, inplace=True)\n",
    "\n",
    "ab_test.head()"
   ]
  },
  {
   "cell_type": "code",
   "execution_count": 54,
   "id": "e5930daf",
   "metadata": {},
   "outputs": [
    {
     "data": {
      "text/plain": [
       "(4074, 9)"
      ]
     },
     "execution_count": 54,
     "metadata": {},
     "output_type": "execute_result"
    }
   ],
   "source": [
    "ab_test.shape"
   ]
  },
  {
   "cell_type": "code",
   "execution_count": 55,
   "id": "8564d561",
   "metadata": {},
   "outputs": [
    {
     "data": {
      "text/plain": [
       "0    2037\n",
       "1    2037\n",
       "Name: converted, dtype: int64"
      ]
     },
     "execution_count": 55,
     "metadata": {},
     "output_type": "execute_result"
    }
   ],
   "source": [
    "# make sure control and test groups are equally spread\n",
    "ab_test['converted'].value_counts()"
   ]
  },
  {
   "cell_type": "code",
   "execution_count": 56,
   "id": "f7c2cafc",
   "metadata": {},
   "outputs": [
    {
     "name": "stdout",
     "output_type": "stream",
     "text": [
      "<class 'pandas.core.frame.DataFrame'>\n",
      "RangeIndex: 4074 entries, 0 to 4073\n",
      "Data columns (total 9 columns):\n",
      " #   Column        Non-Null Count  Dtype         \n",
      "---  ------        --------------  -----         \n",
      " 0   user_id       4074 non-null   int64         \n",
      " 1   timestamp     4074 non-null   datetime64[ns]\n",
      " 2   group         4074 non-null   object        \n",
      " 3   landing_page  4074 non-null   object        \n",
      " 4   converted     4074 non-null   int64         \n",
      " 5   Success       4074 non-null   object        \n",
      " 6   year          4074 non-null   int64         \n",
      " 7   month         4074 non-null   int64         \n",
      " 8   day           4074 non-null   int64         \n",
      "dtypes: datetime64[ns](1), int64(5), object(3)\n",
      "memory usage: 286.6+ KB\n"
     ]
    }
   ],
   "source": [
    "ab_test.info()"
   ]
  },
  {
   "cell_type": "markdown",
   "id": "5bd9a290",
   "metadata": {},
   "source": [
    "## Test to see if new design performed differently from the old design"
   ]
  },
  {
   "cell_type": "code",
   "execution_count": 57,
   "id": "fef64d10",
   "metadata": {},
   "outputs": [
    {
     "name": "stdout",
     "output_type": "stream",
     "text": [
      "z statistic: -0.56\n",
      "p-value: 0.573\n",
      "ci 95% for control group: [0.474, 0.517]\n",
      "ci 95% for treatment group: [0.483, 0.526]\n"
     ]
    }
   ],
   "source": [
    "control_results = ab_test[ab_test['group'] == 'control']['converted']\n",
    "treatment_results = ab_test[ab_test['group'] == 'treatment']['converted']\n",
    "n_con = control_results.count() # number of converted users\n",
    "n_treat = treatment_results.count() # number of treatment users\n",
    "successes = [control_results.sum(), treatment_results.sum()]\n",
    "nobs = [n_con, n_treat]\n",
    "\n",
    "z_stat, pval = proportions_ztest(successes, nobs=nobs)\n",
    "\n",
    "print(f'z statistic: {z_stat:.2f}')\n",
    "print(f'p-value: {pval:.3f}')\n"
   ]
  },
  {
   "cell_type": "markdown",
   "id": "6e207a0e",
   "metadata": {},
   "source": [
    "# Results from two-tailed test:\n",
    "\n",
    "Because our p-value > our aplha level of 0.05, we cannot conclude that there is a statistically difference in performance betwewn the new and old designs at the level that the business leaders would have liked to see. These results alone may make our team reconsider if they'd like to continue to use the new subscriber button or not.\n",
    "\n",
    "But, this test does not tell us the second part of the business leader's question - which is if this new button proves to be worse than the old design or not. The two-tailed test did not provide any sort of direction.. To get those results, we will need to run a one-tailed test."
   ]
  },
  {
   "cell_type": "code",
   "execution_count": null,
   "id": "4935c4b3",
   "metadata": {},
   "outputs": [],
   "source": []
  }
 ],
 "metadata": {
  "kernelspec": {
   "display_name": "Python 3 (ipykernel)",
   "language": "python",
   "name": "python3"
  },
  "language_info": {
   "codemirror_mode": {
    "name": "ipython",
    "version": 3
   },
   "file_extension": ".py",
   "mimetype": "text/x-python",
   "name": "python",
   "nbconvert_exporter": "python",
   "pygments_lexer": "ipython3",
   "version": "3.7.13"
  }
 },
 "nbformat": 4,
 "nbformat_minor": 5
}

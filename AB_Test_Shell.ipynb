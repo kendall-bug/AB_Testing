{
 "cells": [
  {
   "cell_type": "markdown",
   "id": "824e87da",
   "metadata": {},
   "source": [
    "# A/B Testing"
   ]
  },
  {
   "cell_type": "markdown",
   "id": "43974ba7",
   "metadata": {},
   "source": [
    "This notebook goes through the processes of setting up an A/B test. \n",
    "\n",
    "Inspired by the tutorial at: https://towardsdatascience.com/ab-testing-with-python-e5964dd66143\n",
    "\n",
    "Dataset can be found at: https://www.kaggle.com/datasets/zhangluyuan/ab-testing?resource=download"
   ]
  },
  {
   "cell_type": "code",
   "execution_count": 7,
   "id": "9f889595",
   "metadata": {
    "scrolled": true
   },
   "outputs": [
    {
     "data": {
      "text/plain": [
       "'C:\\\\Users\\\\18594\\\\AB_Testing'"
      ]
     },
     "execution_count": 7,
     "metadata": {},
     "output_type": "execute_result"
    }
   ],
   "source": [
    "# import basic packages\n",
    "#!pip install pandas\n",
    "import pandas as pd\n",
    "import os\n",
    "import numpy as np\n",
    "\n",
    "# stats packages \n",
    "#!pip install scipy\n",
    "import scipy.stats as stats\n",
    "#!pip install statsmodels\n",
    "import statsmodels.stats.api as sms\n",
    "from statsmodels.stats.proportion import proportions_ztest\n",
    "\n",
    "# data viz\n",
    "#!pip install matplotlib\n",
    "import matplotlib.pyplot as plt\n",
    "#!pip install seaborn\n",
    "import seaborn as sns\n",
    "\n",
    "os.getcwd()"
   ]
  },
  {
   "cell_type": "code",
   "execution_count": 8,
   "id": "795b2ed2",
   "metadata": {},
   "outputs": [],
   "source": [
    "df = pd.read_csv(os.getcwd() + '/ab_data.csv')"
   ]
  },
  {
   "cell_type": "code",
   "execution_count": 9,
   "id": "e89ba666",
   "metadata": {},
   "outputs": [
    {
     "name": "stdout",
     "output_type": "stream",
     "text": [
      "(294478, 5)\n"
     ]
    }
   ],
   "source": [
    "df.head(50)\n",
    "\n",
    "print(df.shape)"
   ]
  },
  {
   "cell_type": "markdown",
   "id": "9e1cb868",
   "metadata": {},
   "source": [
    "# Exploratory Data Analysis"
   ]
  },
  {
   "cell_type": "code",
   "execution_count": 10,
   "id": "2af23ac0",
   "metadata": {},
   "outputs": [
    {
     "data": {
      "text/plain": [
       "treatment    147276\n",
       "control      147202\n",
       "Name: group, dtype: int64"
      ]
     },
     "execution_count": 10,
     "metadata": {},
     "output_type": "execute_result"
    }
   ],
   "source": [
    "# see how many users are in each group\n",
    "df['group'].value_counts()"
   ]
  },
  {
   "cell_type": "code",
   "execution_count": 11,
   "id": "c24977b7",
   "metadata": {},
   "outputs": [
    {
     "data": {
      "text/html": [
       "<div>\n",
       "<style scoped>\n",
       "    .dataframe tbody tr th:only-of-type {\n",
       "        vertical-align: middle;\n",
       "    }\n",
       "\n",
       "    .dataframe tbody tr th {\n",
       "        vertical-align: top;\n",
       "    }\n",
       "\n",
       "    .dataframe thead th {\n",
       "        text-align: right;\n",
       "    }\n",
       "</style>\n",
       "<table border=\"1\" class=\"dataframe\">\n",
       "  <thead>\n",
       "    <tr style=\"text-align: right;\">\n",
       "      <th>converted</th>\n",
       "      <th>0</th>\n",
       "      <th>1</th>\n",
       "    </tr>\n",
       "    <tr>\n",
       "      <th>group</th>\n",
       "      <th></th>\n",
       "      <th></th>\n",
       "    </tr>\n",
       "  </thead>\n",
       "  <tbody>\n",
       "    <tr>\n",
       "      <th>control</th>\n",
       "      <td>129479</td>\n",
       "      <td>17723</td>\n",
       "    </tr>\n",
       "    <tr>\n",
       "      <th>treatment</th>\n",
       "      <td>129762</td>\n",
       "      <td>17514</td>\n",
       "    </tr>\n",
       "  </tbody>\n",
       "</table>\n",
       "</div>"
      ],
      "text/plain": [
       "converted       0      1\n",
       "group                   \n",
       "control    129479  17723\n",
       "treatment  129762  17514"
      ]
     },
     "execution_count": 11,
     "metadata": {},
     "output_type": "execute_result"
    }
   ],
   "source": [
    "# see how many were converted from test and control groups\n",
    "pd.crosstab(df['group'],df['converted'])"
   ]
  },
  {
   "cell_type": "code",
   "execution_count": 12,
   "id": "84442552",
   "metadata": {},
   "outputs": [
    {
     "data": {
      "text/html": [
       "<div>\n",
       "<style scoped>\n",
       "    .dataframe tbody tr th:only-of-type {\n",
       "        vertical-align: middle;\n",
       "    }\n",
       "\n",
       "    .dataframe tbody tr th {\n",
       "        vertical-align: top;\n",
       "    }\n",
       "\n",
       "    .dataframe thead th {\n",
       "        text-align: right;\n",
       "    }\n",
       "</style>\n",
       "<table border=\"1\" class=\"dataframe\">\n",
       "  <thead>\n",
       "    <tr style=\"text-align: right;\">\n",
       "      <th></th>\n",
       "      <th>user_id</th>\n",
       "      <th>converted</th>\n",
       "    </tr>\n",
       "  </thead>\n",
       "  <tbody>\n",
       "    <tr>\n",
       "      <th>count</th>\n",
       "      <td>294478.000000</td>\n",
       "      <td>294478.000000</td>\n",
       "    </tr>\n",
       "    <tr>\n",
       "      <th>mean</th>\n",
       "      <td>787974.124733</td>\n",
       "      <td>0.119659</td>\n",
       "    </tr>\n",
       "    <tr>\n",
       "      <th>std</th>\n",
       "      <td>91210.823776</td>\n",
       "      <td>0.324563</td>\n",
       "    </tr>\n",
       "    <tr>\n",
       "      <th>min</th>\n",
       "      <td>630000.000000</td>\n",
       "      <td>0.000000</td>\n",
       "    </tr>\n",
       "    <tr>\n",
       "      <th>25%</th>\n",
       "      <td>709032.250000</td>\n",
       "      <td>0.000000</td>\n",
       "    </tr>\n",
       "    <tr>\n",
       "      <th>50%</th>\n",
       "      <td>787933.500000</td>\n",
       "      <td>0.000000</td>\n",
       "    </tr>\n",
       "    <tr>\n",
       "      <th>75%</th>\n",
       "      <td>866911.750000</td>\n",
       "      <td>0.000000</td>\n",
       "    </tr>\n",
       "    <tr>\n",
       "      <th>max</th>\n",
       "      <td>945999.000000</td>\n",
       "      <td>1.000000</td>\n",
       "    </tr>\n",
       "  </tbody>\n",
       "</table>\n",
       "</div>"
      ],
      "text/plain": [
       "             user_id      converted\n",
       "count  294478.000000  294478.000000\n",
       "mean   787974.124733       0.119659\n",
       "std     91210.823776       0.324563\n",
       "min    630000.000000       0.000000\n",
       "25%    709032.250000       0.000000\n",
       "50%    787933.500000       0.000000\n",
       "75%    866911.750000       0.000000\n",
       "max    945999.000000       1.000000"
      ]
     },
     "execution_count": 12,
     "metadata": {},
     "output_type": "execute_result"
    }
   ],
   "source": [
    "df.describe()"
   ]
  },
  {
   "cell_type": "code",
   "execution_count": 13,
   "id": "d54700fe",
   "metadata": {},
   "outputs": [
    {
     "data": {
      "text/html": [
       "<div>\n",
       "<style scoped>\n",
       "    .dataframe tbody tr th:only-of-type {\n",
       "        vertical-align: middle;\n",
       "    }\n",
       "\n",
       "    .dataframe tbody tr th {\n",
       "        vertical-align: top;\n",
       "    }\n",
       "\n",
       "    .dataframe thead th {\n",
       "        text-align: right;\n",
       "    }\n",
       "</style>\n",
       "<table border=\"1\" class=\"dataframe\">\n",
       "  <thead>\n",
       "    <tr style=\"text-align: right;\">\n",
       "      <th>month</th>\n",
       "      <th>1</th>\n",
       "    </tr>\n",
       "    <tr>\n",
       "      <th>year</th>\n",
       "      <th></th>\n",
       "    </tr>\n",
       "  </thead>\n",
       "  <tbody>\n",
       "    <tr>\n",
       "      <th>2017</th>\n",
       "      <td>294478</td>\n",
       "    </tr>\n",
       "  </tbody>\n",
       "</table>\n",
       "</div>"
      ],
      "text/plain": [
       "month       1\n",
       "year         \n",
       "2017   294478"
      ]
     },
     "execution_count": 13,
     "metadata": {},
     "output_type": "execute_result"
    }
   ],
   "source": [
    "## How long was this test run for?\n",
    "df['timestamp'] = pd.to_datetime(df['timestamp'])\n",
    "df['year'] = df['timestamp'].dt.year\n",
    "df['month'] = df['timestamp'].dt.month\n",
    "df['day'] = df['timestamp'].dt.day\n",
    "\n",
    "df.head()\n",
    "\n",
    "# see what months/years this test spans across\n",
    "pd.crosstab(df['year'],df['month'])\n"
   ]
  },
  {
   "cell_type": "markdown",
   "id": "f8836e7d",
   "metadata": {},
   "source": [
    "This test was conducted in January 2017. Let's see how many clicks occurred on each date in January."
   ]
  },
  {
   "cell_type": "code",
   "execution_count": 14,
   "id": "9005ba81",
   "metadata": {},
   "outputs": [
    {
     "data": {
      "text/html": [
       "<div>\n",
       "<style scoped>\n",
       "    .dataframe tbody tr th:only-of-type {\n",
       "        vertical-align: middle;\n",
       "    }\n",
       "\n",
       "    .dataframe tbody tr th {\n",
       "        vertical-align: top;\n",
       "    }\n",
       "\n",
       "    .dataframe thead th {\n",
       "        text-align: right;\n",
       "    }\n",
       "</style>\n",
       "<table border=\"1\" class=\"dataframe\">\n",
       "  <thead>\n",
       "    <tr style=\"text-align: right;\">\n",
       "      <th>month</th>\n",
       "      <th>1</th>\n",
       "    </tr>\n",
       "    <tr>\n",
       "      <th>day</th>\n",
       "      <th></th>\n",
       "    </tr>\n",
       "  </thead>\n",
       "  <tbody>\n",
       "    <tr>\n",
       "      <th>2</th>\n",
       "      <td>5783</td>\n",
       "    </tr>\n",
       "    <tr>\n",
       "      <th>3</th>\n",
       "      <td>13394</td>\n",
       "    </tr>\n",
       "    <tr>\n",
       "      <th>4</th>\n",
       "      <td>13284</td>\n",
       "    </tr>\n",
       "    <tr>\n",
       "      <th>5</th>\n",
       "      <td>13124</td>\n",
       "    </tr>\n",
       "    <tr>\n",
       "      <th>6</th>\n",
       "      <td>13528</td>\n",
       "    </tr>\n",
       "    <tr>\n",
       "      <th>7</th>\n",
       "      <td>13381</td>\n",
       "    </tr>\n",
       "    <tr>\n",
       "      <th>8</th>\n",
       "      <td>13564</td>\n",
       "    </tr>\n",
       "    <tr>\n",
       "      <th>9</th>\n",
       "      <td>13439</td>\n",
       "    </tr>\n",
       "    <tr>\n",
       "      <th>10</th>\n",
       "      <td>13523</td>\n",
       "    </tr>\n",
       "    <tr>\n",
       "      <th>11</th>\n",
       "      <td>13553</td>\n",
       "    </tr>\n",
       "    <tr>\n",
       "      <th>12</th>\n",
       "      <td>13322</td>\n",
       "    </tr>\n",
       "    <tr>\n",
       "      <th>13</th>\n",
       "      <td>13238</td>\n",
       "    </tr>\n",
       "    <tr>\n",
       "      <th>14</th>\n",
       "      <td>13329</td>\n",
       "    </tr>\n",
       "    <tr>\n",
       "      <th>15</th>\n",
       "      <td>13449</td>\n",
       "    </tr>\n",
       "    <tr>\n",
       "      <th>16</th>\n",
       "      <td>13327</td>\n",
       "    </tr>\n",
       "    <tr>\n",
       "      <th>17</th>\n",
       "      <td>13322</td>\n",
       "    </tr>\n",
       "    <tr>\n",
       "      <th>18</th>\n",
       "      <td>13285</td>\n",
       "    </tr>\n",
       "    <tr>\n",
       "      <th>19</th>\n",
       "      <td>13293</td>\n",
       "    </tr>\n",
       "    <tr>\n",
       "      <th>20</th>\n",
       "      <td>13393</td>\n",
       "    </tr>\n",
       "    <tr>\n",
       "      <th>21</th>\n",
       "      <td>13475</td>\n",
       "    </tr>\n",
       "    <tr>\n",
       "      <th>22</th>\n",
       "      <td>13423</td>\n",
       "    </tr>\n",
       "    <tr>\n",
       "      <th>23</th>\n",
       "      <td>13511</td>\n",
       "    </tr>\n",
       "    <tr>\n",
       "      <th>24</th>\n",
       "      <td>7538</td>\n",
       "    </tr>\n",
       "  </tbody>\n",
       "</table>\n",
       "</div>"
      ],
      "text/plain": [
       "month      1\n",
       "day         \n",
       "2       5783\n",
       "3      13394\n",
       "4      13284\n",
       "5      13124\n",
       "6      13528\n",
       "7      13381\n",
       "8      13564\n",
       "9      13439\n",
       "10     13523\n",
       "11     13553\n",
       "12     13322\n",
       "13     13238\n",
       "14     13329\n",
       "15     13449\n",
       "16     13327\n",
       "17     13322\n",
       "18     13285\n",
       "19     13293\n",
       "20     13393\n",
       "21     13475\n",
       "22     13423\n",
       "23     13511\n",
       "24      7538"
      ]
     },
     "execution_count": 14,
     "metadata": {},
     "output_type": "execute_result"
    }
   ],
   "source": [
    "# see what months/years this test spans across\n",
    "pd.crosstab(df['day'],df['month'])"
   ]
  },
  {
   "cell_type": "markdown",
   "id": "1a12d1f2",
   "metadata": {},
   "source": [
    "# Define what Success looks like, as well as pre and post metrics."
   ]
  },
  {
   "cell_type": "code",
   "execution_count": 15,
   "id": "aec1da09",
   "metadata": {},
   "outputs": [
    {
     "data": {
      "text/html": [
       "<div>\n",
       "<style scoped>\n",
       "    .dataframe tbody tr th:only-of-type {\n",
       "        vertical-align: middle;\n",
       "    }\n",
       "\n",
       "    .dataframe tbody tr th {\n",
       "        vertical-align: top;\n",
       "    }\n",
       "\n",
       "    .dataframe thead th {\n",
       "        text-align: right;\n",
       "    }\n",
       "</style>\n",
       "<table border=\"1\" class=\"dataframe\">\n",
       "  <thead>\n",
       "    <tr style=\"text-align: right;\">\n",
       "      <th></th>\n",
       "      <th>user_id</th>\n",
       "      <th>timestamp</th>\n",
       "      <th>group</th>\n",
       "      <th>landing_page</th>\n",
       "      <th>converted</th>\n",
       "      <th>year</th>\n",
       "      <th>month</th>\n",
       "      <th>day</th>\n",
       "      <th>Success</th>\n",
       "    </tr>\n",
       "  </thead>\n",
       "  <tbody>\n",
       "    <tr>\n",
       "      <th>0</th>\n",
       "      <td>851104</td>\n",
       "      <td>2017-01-21 22:11:48.556739</td>\n",
       "      <td>control</td>\n",
       "      <td>old_page</td>\n",
       "      <td>0</td>\n",
       "      <td>2017</td>\n",
       "      <td>1</td>\n",
       "      <td>21</td>\n",
       "      <td>User did not convert</td>\n",
       "    </tr>\n",
       "    <tr>\n",
       "      <th>1</th>\n",
       "      <td>804228</td>\n",
       "      <td>2017-01-12 08:01:45.159739</td>\n",
       "      <td>control</td>\n",
       "      <td>old_page</td>\n",
       "      <td>0</td>\n",
       "      <td>2017</td>\n",
       "      <td>1</td>\n",
       "      <td>12</td>\n",
       "      <td>User did not convert</td>\n",
       "    </tr>\n",
       "    <tr>\n",
       "      <th>2</th>\n",
       "      <td>661590</td>\n",
       "      <td>2017-01-11 16:55:06.154213</td>\n",
       "      <td>treatment</td>\n",
       "      <td>new_page</td>\n",
       "      <td>0</td>\n",
       "      <td>2017</td>\n",
       "      <td>1</td>\n",
       "      <td>11</td>\n",
       "      <td>User did not convert</td>\n",
       "    </tr>\n",
       "    <tr>\n",
       "      <th>3</th>\n",
       "      <td>853541</td>\n",
       "      <td>2017-01-08 18:28:03.143765</td>\n",
       "      <td>treatment</td>\n",
       "      <td>new_page</td>\n",
       "      <td>0</td>\n",
       "      <td>2017</td>\n",
       "      <td>1</td>\n",
       "      <td>8</td>\n",
       "      <td>User did not convert</td>\n",
       "    </tr>\n",
       "    <tr>\n",
       "      <th>4</th>\n",
       "      <td>864975</td>\n",
       "      <td>2017-01-21 01:52:26.210827</td>\n",
       "      <td>control</td>\n",
       "      <td>old_page</td>\n",
       "      <td>1</td>\n",
       "      <td>2017</td>\n",
       "      <td>1</td>\n",
       "      <td>21</td>\n",
       "      <td>User converted</td>\n",
       "    </tr>\n",
       "  </tbody>\n",
       "</table>\n",
       "</div>"
      ],
      "text/plain": [
       "   user_id                  timestamp      group landing_page  converted  \\\n",
       "0   851104 2017-01-21 22:11:48.556739    control     old_page          0   \n",
       "1   804228 2017-01-12 08:01:45.159739    control     old_page          0   \n",
       "2   661590 2017-01-11 16:55:06.154213  treatment     new_page          0   \n",
       "3   853541 2017-01-08 18:28:03.143765  treatment     new_page          0   \n",
       "4   864975 2017-01-21 01:52:26.210827    control     old_page          1   \n",
       "\n",
       "   year  month  day               Success  \n",
       "0  2017      1   21  User did not convert  \n",
       "1  2017      1   12  User did not convert  \n",
       "2  2017      1   11  User did not convert  \n",
       "3  2017      1    8  User did not convert  \n",
       "4  2017      1   21        User converted  "
      ]
     },
     "execution_count": 15,
     "metadata": {},
     "output_type": "execute_result"
    }
   ],
   "source": [
    "df.loc[df['converted']==1, 'Success'] = \"User converted\"\n",
    "df.loc[df['converted']==0, 'Success'] = \"User did not convert\"\n",
    "df.head()"
   ]
  },
  {
   "cell_type": "markdown",
   "id": "c1037ed4",
   "metadata": {},
   "source": [
    "### Pre-Test Success metric: Our baseline performance. \n",
    "\n",
    "How many control users clicked on the old version of the \"Click Here to Subscribe\" button on your site?\n",
    "\n",
    "I am calculating this to use as the number for our \"normal\" or \"expected\" performance. Keep in mind that this is number is coming from a sample - if you are applying this in a business setting, your business partners may be able to provide a metric for what the typical performance of the population is."
   ]
  },
  {
   "cell_type": "code",
   "execution_count": 16,
   "id": "e9a8dcbe",
   "metadata": {},
   "outputs": [
    {
     "name": "stdout",
     "output_type": "stream",
     "text": [
      "0.12039917935897611\n"
     ]
    }
   ],
   "source": [
    "# separate out only non-converted users\n",
    "not_conv = df[df['group']=='control']\n",
    "\n",
    "# percentage of time user was converted vs not\n",
    "not_conv['converted'].value_counts()\n",
    "\n",
    "# take num of successes / total instances\n",
    "pre_test_success = not_conv['converted'].value_counts()[1] / (not_conv['converted'].value_counts()[1] + not_conv['converted'].value_counts()[0])\n",
    "print(pre_test_success)"
   ]
  },
  {
   "cell_type": "markdown",
   "id": "e8ecad30",
   "metadata": {},
   "source": [
    "### Post-Test Success metric: Our performance after the treatment is applied.\n",
    "\n",
    "How many treatment users clicked on the new version of the \"Click Here to Subscribe\" button on your site?"
   ]
  },
  {
   "cell_type": "code",
   "execution_count": 17,
   "id": "851722e3",
   "metadata": {},
   "outputs": [
    {
     "name": "stdout",
     "output_type": "stream",
     "text": [
      "0.11891957956489856\n"
     ]
    }
   ],
   "source": [
    "# separate out only non-converted users\n",
    "conv = df[df['group']=='treatment']\n",
    "\n",
    "# percentage of time user was converted vs not\n",
    "conv['converted'].value_counts()\n",
    "\n",
    "# take num of successes / total instances\n",
    "post_test_success = conv['converted'].value_counts()[1] / (conv['converted'].value_counts()[1] + conv['converted'].value_counts()[0])\n",
    "print(post_test_success)"
   ]
  },
  {
   "cell_type": "markdown",
   "id": "93ec2946",
   "metadata": {},
   "source": [
    "# Business Problem"
   ]
  },
  {
   "cell_type": "markdown",
   "id": "cadcb264",
   "metadata": {},
   "source": [
    "Both pre and post conversion rates are around 12%, with post test metrics actually seeming to be a little *worse* with the new design than the old design. \n",
    "\n",
    "Your business team is starting to worry that this new design is losing potential customers, wants to know if they should keep this design or revert back to the old button. They say that in order to keep the new button, they would like to see at least a 3% increase in subscribers being attracted. Otherwise, they will return back to the old design."
   ]
  },
  {
   "cell_type": "code",
   "execution_count": 18,
   "id": "28db8ed4",
   "metadata": {},
   "outputs": [
    {
     "data": {
      "text/plain": [
       "0.15039917935897612"
      ]
     },
     "execution_count": 18,
     "metadata": {},
     "output_type": "execute_result"
    }
   ],
   "source": [
    "desired_effect = pre_test_success + 0.03\n",
    "desired_effect"
   ]
  },
  {
   "cell_type": "markdown",
   "id": "93ffc80e",
   "metadata": {},
   "source": [
    "# Run the A/B test"
   ]
  },
  {
   "cell_type": "markdown",
   "id": "2d2dfa1c",
   "metadata": {},
   "source": [
    "# Test for duplicates users, and remove them if they appear more than once\n",
    "\n",
    "Since we want to ensure that each observation is a unique user coming to the site, we want to remove any duplicate users from our df.\n"
   ]
  },
  {
   "cell_type": "code",
   "execution_count": 19,
   "id": "4d7fece9",
   "metadata": {},
   "outputs": [
    {
     "name": "stdout",
     "output_type": "stream",
     "text": [
      "There are 3894 users that appear multiple times in the dataset\n"
     ]
    }
   ],
   "source": [
    "# see if there are users that appear mulitple times\n",
    "visit_counts = df['user_id'].value_counts(ascending=False)\n",
    "multi_users = visit_counts[visit_counts > 1].count()\n",
    "\n",
    "print(f'There are {multi_users} users that appear multiple times in the dataset')"
   ]
  },
  {
   "cell_type": "code",
   "execution_count": 20,
   "id": "6b9572c1",
   "metadata": {},
   "outputs": [
    {
     "name": "stdout",
     "output_type": "stream",
     "text": [
      "The updated dataset now has 286690 entries\n"
     ]
    }
   ],
   "source": [
    "users_to_drop = visit_counts[visit_counts > 1].index\n",
    "\n",
    "df = df[~df['user_id'].isin(users_to_drop)]\n",
    "print(f'The updated dataset now has {df.shape[0]} entries')"
   ]
  },
  {
   "cell_type": "code",
   "execution_count": 21,
   "id": "d85dd26a",
   "metadata": {},
   "outputs": [
    {
     "data": {
      "text/plain": [
       "user_id                  int64\n",
       "timestamp       datetime64[ns]\n",
       "group                   object\n",
       "landing_page            object\n",
       "converted                int64\n",
       "year                     int64\n",
       "month                    int64\n",
       "day                      int64\n",
       "Success                 object\n",
       "dtype: object"
      ]
     },
     "execution_count": 21,
     "metadata": {},
     "output_type": "execute_result"
    }
   ],
   "source": [
    "df.dtypes"
   ]
  },
  {
   "cell_type": "markdown",
   "id": "af8f0683",
   "metadata": {},
   "source": [
    "# Two-tailed Hypothesis: The new button impacts website performance in attracting subscribers."
   ]
  },
  {
   "cell_type": "markdown",
   "id": "115a2796",
   "metadata": {},
   "source": [
    "# Gathering the correct sample size\n",
    "\n",
    "A/B testing generally requires many observations to get statistically valid results. But, although we have a pretty good amount of data in this dataset, we still may not need to analyze all of it to answer our business question.\n",
    "\n",
    "The code below calculates the minimum number of observations in each group (control and treatment) that we need to collect before performaing the analysis. This can help us to speed up processing times and run a less computationally-expensive test."
   ]
  },
  {
   "cell_type": "code",
   "execution_count": 22,
   "id": "d1c505e6",
   "metadata": {},
   "outputs": [
    {
     "data": {
      "text/plain": [
       "-0.08780542373591216"
      ]
     },
     "execution_count": 22,
     "metadata": {},
     "output_type": "execute_result"
    }
   ],
   "source": [
    "# # # article eff size - same as my calc value?\n",
    "#effect_size_article = sms.proportion_effectsize(pre_treatment_success,post_treatment_success)\n",
    "effect_size= sms.proportion_effectsize(pre_test_success,desired_effect) # see if there is an effect between expected pre and post amounts\n",
    "effect_size"
   ]
  },
  {
   "cell_type": "code",
   "execution_count": 23,
   "id": "1ec78d6c",
   "metadata": {},
   "outputs": [],
   "source": [
    "# https://www.statsmodels.org/dev/generated/statsmodels.stats.power.NormalIndPower.solve_power.html\n",
    "# https://towardsdatascience.com/ab-testing-with-python-e5964dd66143\n",
    "required_n = sms.NormalIndPower().solve_power(\n",
    "    effect_size, \n",
    "    power=0.8, # Power is the probability that the test correctly rejects the Null Hypothesis if the Alternative Hypothesis is true. Typical default value is 0.8, saying that there is an 80% chance that the test correctly rejects the null hypothesis.\n",
    "    alpha=0.05, \n",
    "    ratio=1\n",
    "    )               "
   ]
  },
  {
   "cell_type": "code",
   "execution_count": 24,
   "id": "0c3aa336",
   "metadata": {},
   "outputs": [
    {
     "name": "stdout",
     "output_type": "stream",
     "text": [
      "2037.0\n"
     ]
    }
   ],
   "source": [
    "# minimum number of stores from each group that need to be sampled \n",
    "# in order to detect if there is a true difference between our pre and post test.\n",
    "# tip: you can edit the power and alpha levels above if you want more/less precision behind your results\n",
    "required_n = np.ceil(required_n)\n",
    "print(required_n)"
   ]
  },
  {
   "cell_type": "markdown",
   "id": "05e39a24",
   "metadata": {},
   "source": [
    "# Balance the data frame that we are testing\n",
    "\n",
    "The control and test groups must have the same number of ns.\n",
    "\n",
    "We can make sure each group is represented by randomly sampling 2037 (our min sample size) from each group and putting these values into a new df"
   ]
  },
  {
   "cell_type": "code",
   "execution_count": 25,
   "id": "185b8010",
   "metadata": {},
   "outputs": [
    {
     "name": "stdout",
     "output_type": "stream",
     "text": [
      "2037\n"
     ]
    }
   ],
   "source": [
    "# create new df that have the same num of samples from control group as test group\n",
    "required_n = required_n.astype(np.int64)\n",
    "print(required_n)\n",
    "\n",
    "control_sample = df[df['converted'] == 0].sample(required_n, random_state=22)\n",
    "treatment_sample = df[df['converted'] == 1].sample(required_n, random_state=22)\n",
    "\n"
   ]
  },
  {
   "cell_type": "code",
   "execution_count": 26,
   "id": "5b2bd98a",
   "metadata": {},
   "outputs": [
    {
     "data": {
      "text/html": [
       "<div>\n",
       "<style scoped>\n",
       "    .dataframe tbody tr th:only-of-type {\n",
       "        vertical-align: middle;\n",
       "    }\n",
       "\n",
       "    .dataframe tbody tr th {\n",
       "        vertical-align: top;\n",
       "    }\n",
       "\n",
       "    .dataframe thead th {\n",
       "        text-align: right;\n",
       "    }\n",
       "</style>\n",
       "<table border=\"1\" class=\"dataframe\">\n",
       "  <thead>\n",
       "    <tr style=\"text-align: right;\">\n",
       "      <th></th>\n",
       "      <th>user_id</th>\n",
       "      <th>timestamp</th>\n",
       "      <th>group</th>\n",
       "      <th>landing_page</th>\n",
       "      <th>converted</th>\n",
       "      <th>year</th>\n",
       "      <th>month</th>\n",
       "      <th>day</th>\n",
       "      <th>Success</th>\n",
       "    </tr>\n",
       "  </thead>\n",
       "  <tbody>\n",
       "    <tr>\n",
       "      <th>0</th>\n",
       "      <td>733022</td>\n",
       "      <td>2017-01-23 15:19:30.625626</td>\n",
       "      <td>treatment</td>\n",
       "      <td>new_page</td>\n",
       "      <td>0</td>\n",
       "      <td>2017</td>\n",
       "      <td>1</td>\n",
       "      <td>23</td>\n",
       "      <td>User did not convert</td>\n",
       "    </tr>\n",
       "    <tr>\n",
       "      <th>1</th>\n",
       "      <td>907867</td>\n",
       "      <td>2017-01-15 11:05:07.146881</td>\n",
       "      <td>treatment</td>\n",
       "      <td>new_page</td>\n",
       "      <td>0</td>\n",
       "      <td>2017</td>\n",
       "      <td>1</td>\n",
       "      <td>15</td>\n",
       "      <td>User did not convert</td>\n",
       "    </tr>\n",
       "    <tr>\n",
       "      <th>2</th>\n",
       "      <td>637065</td>\n",
       "      <td>2017-01-06 01:27:52.026002</td>\n",
       "      <td>treatment</td>\n",
       "      <td>new_page</td>\n",
       "      <td>0</td>\n",
       "      <td>2017</td>\n",
       "      <td>1</td>\n",
       "      <td>6</td>\n",
       "      <td>User did not convert</td>\n",
       "    </tr>\n",
       "    <tr>\n",
       "      <th>3</th>\n",
       "      <td>753838</td>\n",
       "      <td>2017-01-10 07:41:29.024607</td>\n",
       "      <td>control</td>\n",
       "      <td>old_page</td>\n",
       "      <td>0</td>\n",
       "      <td>2017</td>\n",
       "      <td>1</td>\n",
       "      <td>10</td>\n",
       "      <td>User did not convert</td>\n",
       "    </tr>\n",
       "    <tr>\n",
       "      <th>4</th>\n",
       "      <td>861583</td>\n",
       "      <td>2017-01-20 16:21:08.793702</td>\n",
       "      <td>treatment</td>\n",
       "      <td>new_page</td>\n",
       "      <td>0</td>\n",
       "      <td>2017</td>\n",
       "      <td>1</td>\n",
       "      <td>20</td>\n",
       "      <td>User did not convert</td>\n",
       "    </tr>\n",
       "  </tbody>\n",
       "</table>\n",
       "</div>"
      ],
      "text/plain": [
       "   user_id                  timestamp      group landing_page  converted  \\\n",
       "0   733022 2017-01-23 15:19:30.625626  treatment     new_page          0   \n",
       "1   907867 2017-01-15 11:05:07.146881  treatment     new_page          0   \n",
       "2   637065 2017-01-06 01:27:52.026002  treatment     new_page          0   \n",
       "3   753838 2017-01-10 07:41:29.024607    control     old_page          0   \n",
       "4   861583 2017-01-20 16:21:08.793702  treatment     new_page          0   \n",
       "\n",
       "   year  month  day               Success  \n",
       "0  2017      1   23  User did not convert  \n",
       "1  2017      1   15  User did not convert  \n",
       "2  2017      1    6  User did not convert  \n",
       "3  2017      1   10  User did not convert  \n",
       "4  2017      1   20  User did not convert  "
      ]
     },
     "execution_count": 26,
     "metadata": {},
     "output_type": "execute_result"
    }
   ],
   "source": [
    "ab_test = pd.concat([control_sample, treatment_sample], axis=0)\n",
    "ab_test.reset_index(drop=True, inplace=True)\n",
    "\n",
    "ab_test.head()"
   ]
  },
  {
   "cell_type": "code",
   "execution_count": 27,
   "id": "d0fbd9f5",
   "metadata": {},
   "outputs": [
    {
     "data": {
      "text/plain": [
       "(4074, 9)"
      ]
     },
     "execution_count": 27,
     "metadata": {},
     "output_type": "execute_result"
    }
   ],
   "source": [
    "ab_test.shape"
   ]
  },
  {
   "cell_type": "code",
   "execution_count": 28,
   "id": "2b238286",
   "metadata": {},
   "outputs": [
    {
     "data": {
      "text/plain": [
       "0    2037\n",
       "1    2037\n",
       "Name: converted, dtype: int64"
      ]
     },
     "execution_count": 28,
     "metadata": {},
     "output_type": "execute_result"
    }
   ],
   "source": [
    "# make sure control and test groups are equally spread\n",
    "ab_test['converted'].value_counts()"
   ]
  },
  {
   "cell_type": "code",
   "execution_count": 29,
   "id": "a75c952e",
   "metadata": {},
   "outputs": [
    {
     "name": "stdout",
     "output_type": "stream",
     "text": [
      "<class 'pandas.core.frame.DataFrame'>\n",
      "RangeIndex: 4074 entries, 0 to 4073\n",
      "Data columns (total 9 columns):\n",
      " #   Column        Non-Null Count  Dtype         \n",
      "---  ------        --------------  -----         \n",
      " 0   user_id       4074 non-null   int64         \n",
      " 1   timestamp     4074 non-null   datetime64[ns]\n",
      " 2   group         4074 non-null   object        \n",
      " 3   landing_page  4074 non-null   object        \n",
      " 4   converted     4074 non-null   int64         \n",
      " 5   year          4074 non-null   int64         \n",
      " 6   month         4074 non-null   int64         \n",
      " 7   day           4074 non-null   int64         \n",
      " 8   Success       4074 non-null   object        \n",
      "dtypes: datetime64[ns](1), int64(5), object(3)\n",
      "memory usage: 286.6+ KB\n"
     ]
    }
   ],
   "source": [
    "ab_test.info()"
   ]
  },
  {
   "cell_type": "markdown",
   "id": "793c369d",
   "metadata": {},
   "source": [
    "## Test to see if new design performed differently from the old design"
   ]
  },
  {
   "cell_type": "code",
   "execution_count": 30,
   "id": "22c5307a",
   "metadata": {},
   "outputs": [
    {
     "name": "stdout",
     "output_type": "stream",
     "text": [
      "z statistic: -0.56\n",
      "p-value: 0.573\n"
     ]
    }
   ],
   "source": [
    "control_results = ab_test[ab_test['group'] == 'control']['converted']\n",
    "treatment_results = ab_test[ab_test['group'] == 'treatment']['converted']\n",
    "n_con = control_results.count() # number of converted users\n",
    "n_treat = treatment_results.count() # number of treatment users\n",
    "successes = [control_results.sum(), treatment_results.sum()]\n",
    "nobs = [n_con, n_treat]\n",
    "\n",
    "z_stat, pval = proportions_ztest(successes, nobs=nobs)\n",
    "\n",
    "print(f'z statistic two-tailed test: {z_stat:.2f}')\n",
    "print(f'p-value two-tailed test: {pval:.3f}')\n"
   ]
  },
  {
   "cell_type": "markdown",
   "id": "408e5ccb",
   "metadata": {},
   "source": [
    "# Results from two-tailed test:\n",
    "\n",
    "Because our p-value in the two-tailed test was > our alpha level of 0.05, we cannot conclude that there is a statistically difference in performance betwewn the new and old designs at the level that the business leaders would have liked to see. These results alone may make our team reconsider if they'd like to continue to use the new subscriber button or not.\n",
    "\n",
    "But, this test does not tell us the second part of the business leader's question - which is if this new button proves to be worse than the old design or not. This is because the two-tailed test does not provide any sort of direction. To get determine if the new design has more converted users than the old design, we will need to run a one-tailed test."
   ]
  },
  {
   "cell_type": "markdown",
   "id": "a2638a33",
   "metadata": {},
   "source": [
    "# One-tailed Hypothesis: The new button is better than the old button at attracting subscribers."
   ]
  },
  {
   "cell_type": "markdown",
   "id": "cf37960a",
   "metadata": {},
   "source": [
    "# One-tailed test"
   ]
  },
  {
   "cell_type": "code",
   "execution_count": 36,
   "id": "066626de",
   "metadata": {},
   "outputs": [
    {
     "name": "stdout",
     "output_type": "stream",
     "text": [
      "z statistic one-tailed test that control < treatment : -0.56\n",
      "p-value one-tailed test that  control < treatment : 0.286\n",
      "\n",
      "z statistic one-tailed test that control > treatment : -0.56\n",
      "p-value one-tailed test that  control > treatment : 0.714\n"
     ]
    }
   ],
   "source": [
    "# alternative: control < treatment \n",
    "# alternative: the new design attracts more subscribers than the old\n",
    "z_stat, pval = proportions_ztest(successes, nobs=nobs, alternative='smaller')\n",
    "\n",
    "print(f'z statistic one-tailed test that control < treatment : {z_stat:.2f}')\n",
    "print(f'p-value one-tailed test that  control < treatment : {pval:.3f}')\n",
    "print('')\n",
    "\n",
    "# alternative: control > treatment \n",
    "# alternative: the old design attracts more subscribers than the new\n",
    "# in other words, the new design is losing us subscribers\n",
    "z_stat, pval = proportions_ztest(successes, nobs=nobs, alternative='larger')\n",
    "\n",
    "print(f'z statistic one-tailed test that control > treatment : {z_stat:.2f}')\n",
    "print(f'p-value one-tailed test that  control > treatment : {pval:.3f}')\n"
   ]
  },
  {
   "cell_type": "markdown",
   "id": "0db951d2",
   "metadata": {},
   "source": [
    "# Results from one-tailed test:\n",
    "\n",
    "Because our p-value in the one-tailed test where control < treatment was > our alpha level of 0.05, we cannot conclude that the new button attracts subscribers better than the old button. So, the new design is not necessarily gaining us any new subscribers.\n",
    "\n",
    "Also, because our p-value in the one-tailed test where control > tretment was > our alpha level of 0.05, we cannot conclude that the new button deters subscribers compared to the old button - this is good news and shows the business leaders that we aren't losing subscribers because of this new design like they had previously thought."
   ]
  },
  {
   "cell_type": "markdown",
   "id": "8e8ba1dd",
   "metadata": {},
   "source": [
    "# Overall Results\n",
    "\n",
    "Our statistical tests have revealed that the new design is not doing a better job at attracting customers to become subscribers to our site than the old design. Although the new design is not necessarily losing us customers either, business leaders may consider if they would like to revert back to the old design, or continue to try other solutions to attempt to attract more subscribers."
   ]
  },
  {
   "cell_type": "code",
   "execution_count": null,
   "id": "7ab47c3c",
   "metadata": {},
   "outputs": [],
   "source": []
  }
 ],
 "metadata": {
  "kernelspec": {
   "display_name": "Python 3 (ipykernel)",
   "language": "python",
   "name": "python3"
  },
  "language_info": {
   "codemirror_mode": {
    "name": "ipython",
    "version": 3
   },
   "file_extension": ".py",
   "mimetype": "text/x-python",
   "name": "python",
   "nbconvert_exporter": "python",
   "pygments_lexer": "ipython3",
   "version": "3.7.13"
  }
 },
 "nbformat": 4,
 "nbformat_minor": 5
}
